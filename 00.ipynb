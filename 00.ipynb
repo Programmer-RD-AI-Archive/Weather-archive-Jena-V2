{
 "cells": [
  {
   "cell_type": "code",
   "execution_count": 1,
   "id": "737a539f-9425-4963-9543-022dea9ac43f",
   "metadata": {},
   "outputs": [
    {
     "data": {
      "text/plain": [
       "<torch._C.Generator at 0x7fa7235d29d0>"
      ]
     },
     "execution_count": 1,
     "metadata": {},
     "output_type": "execute_result"
    }
   ],
   "source": [
    "import random\n",
    "import seaborn as sns\n",
    "import pandas as pd\n",
    "import numpy as np\n",
    "import matplotlib.pyplot as plt\n",
    "import sklearn\n",
    "import torch,torchvision\n",
    "from torch.nn import *\n",
    "from tqdm import tqdm\n",
    "import cv2\n",
    "from torch.optim import *\n",
    "# Preproccessing\n",
    "from sklearn.preprocessing import (\n",
    "    StandardScaler,\n",
    "    RobustScaler,\n",
    "    MinMaxScaler,\n",
    "    MaxAbsScaler,\n",
    "    OneHotEncoder,\n",
    "    Normalizer,\n",
    "    Binarizer\n",
    ")\n",
    "# Decomposition\n",
    "from sklearn.decomposition import PCA\n",
    "from sklearn.decomposition import KernelPCA\n",
    "# Feature Selection\n",
    "from sklearn.feature_selection import VarianceThreshold\n",
    "from sklearn.feature_selection import SelectKBest\n",
    "from sklearn.feature_selection import RFECV\n",
    "from sklearn.feature_selection import SelectFromModel\n",
    "# Model Eval\n",
    "from sklearn.compose import make_column_transformer\n",
    "from sklearn.model_selection import GridSearchCV\n",
    "from sklearn.model_selection import cross_val_score,train_test_split\n",
    "from sklearn.metrics import mean_absolute_error,mean_squared_error\n",
    "# Other\n",
    "import pickle\n",
    "import wandb\n",
    "\n",
    "PROJECT_NAME = 'Weather-archive-Jena-V2'\n",
    "device = 'cuda:0'\n",
    "np.random.seed(21)\n",
    "random.seed(21)\n",
    "torch.manual_seed(21)"
   ]
  },
  {
   "cell_type": "code",
   "execution_count": 2,
   "id": "4e0a0463-2571-45a0-b693-0355ce57eccd",
   "metadata": {},
   "outputs": [],
   "source": [
    "data = pd.read_csv('./data.csv')[:3750]"
   ]
  },
  {
   "cell_type": "code",
   "execution_count": 3,
   "id": "f3343817-6871-4a81-89f8-be478c4eeff1",
   "metadata": {},
   "outputs": [],
   "source": [
    "data = data['rh (%)']"
   ]
  },
  {
   "cell_type": "code",
   "execution_count": 4,
   "id": "613b1551-0ad6-449e-b944-ff1bb801c33f",
   "metadata": {},
   "outputs": [],
   "source": [
    "data = data.tolist()"
   ]
  },
  {
   "cell_type": "code",
   "execution_count": 5,
   "id": "4acb4d98-3db1-4b63-a42c-0e41593b0448",
   "metadata": {},
   "outputs": [],
   "source": [
    "data = torch.from_numpy(np.array(data)).view(1,-1).to(device).float()"
   ]
  },
  {
   "cell_type": "code",
   "execution_count": 6,
   "id": "fa3a4fe3-49bb-4ec3-8e1f-6a968d4d9ad9",
   "metadata": {},
   "outputs": [],
   "source": [
    "data_input = data[:,:-1]\n",
    "data_target = data[:,1:]"
   ]
  },
  {
   "cell_type": "code",
   "execution_count": 7,
   "id": "ff81ba86-a43c-44b0-8b3e-08ad84c1425a",
   "metadata": {},
   "outputs": [
    {
     "data": {
      "text/plain": [
       "tensor([[93.3000, 93.4000, 93.9000,  ..., 95.8000, 96.0000, 96.2000]],\n",
       "       device='cuda:0')"
      ]
     },
     "execution_count": 7,
     "metadata": {},
     "output_type": "execute_result"
    }
   ],
   "source": [
    "data_input"
   ]
  },
  {
   "cell_type": "code",
   "execution_count": 8,
   "id": "fc2f0dea-6618-4baf-bdc8-aecee9fb3b93",
   "metadata": {},
   "outputs": [
    {
     "data": {
      "text/plain": [
       "tensor([[93.4000, 93.9000, 94.2000,  ..., 96.0000, 96.2000, 96.3000]],\n",
       "       device='cuda:0')"
      ]
     },
     "execution_count": 8,
     "metadata": {},
     "output_type": "execute_result"
    }
   ],
   "source": [
    "data_target"
   ]
  },
  {
   "cell_type": "code",
   "execution_count": 9,
   "id": "f0283577-4291-4eb5-abc1-de3e3026c12c",
   "metadata": {},
   "outputs": [],
   "source": [
    "class Model(Module):\n",
    "    def __init__(self):\n",
    "        super().__init__()\n",
    "        self.hidden = 64\n",
    "        self.lstm1 = LSTMCell(1,self.hidden)\n",
    "        self.lstm2 = LSTMCell(self.hidden,self.hidden)\n",
    "        self.linear = Linear(self.hidden,1)\n",
    "        \n",
    "    def forward(self,X,future=0):\n",
    "        preds = []\n",
    "        batch_size = X.size(0)\n",
    "        h_t1,c_t1 = torch.zeros(batch_size,self.hidden).to(device),torch.zeros(batch_size,self.hidden).to(device)\n",
    "        h_t2,c_t2 = torch.zeros(batch_size,self.hidden).to(device),torch.zeros(batch_size,self.hidden).to(device)\n",
    "        for X_batch in X.split(1,dim=1):\n",
    "            X_batch = X_batch.to(device)\n",
    "            h_t1,c_t1 = self.lstm1(X_batch,(h_t1,c_t1))\n",
    "            h_t2,c_t2 = self.lstm2(h_t1,(h_t2,c_t2))\n",
    "            pred = self.linear(h_t2)\n",
    "            preds.append(pred)\n",
    "        for _ in range(future):\n",
    "            X_batch = X_batch.to(device)\n",
    "            h_t1,c_t1 = self.lstm1(X_batch,(h_t1,c_t1))\n",
    "            h_t2,c_t2 = self.lstm2(h_t1,(h_t2,c_t2))\n",
    "            pred = self.linear(h_t2)\n",
    "            preds.append(pred)\n",
    "        preds = torch.cat(preds,dim=1)\n",
    "        return preds"
   ]
  },
  {
   "cell_type": "code",
   "execution_count": 10,
   "id": "fb52fd10-c1b6-459d-801c-b9d2651caad4",
   "metadata": {},
   "outputs": [],
   "source": [
    "model = Model().to(device)\n",
    "criterion = MSELoss()\n",
    "optimizer = Adam(model.parameters(),lr=0.001)\n",
    "epochs = 100"
   ]
  },
  {
   "cell_type": "code",
   "execution_count": 11,
   "id": "2e696970-8cd0-4479-95c7-28af7e191cf2",
   "metadata": {},
   "outputs": [
    {
     "name": "stderr",
     "output_type": "stream",
     "text": [
      "\u001b[34m\u001b[1mwandb\u001b[0m: Currently logged in as: \u001b[33mranuga-d\u001b[0m (use `wandb login --relogin` to force relogin)\n"
     ]
    },
    {
     "data": {
      "text/html": [
       "\n",
       "                    Syncing run <strong><a href=\"https://wandb.ai/ranuga-d/Weather-archive-Jena-V2/runs/3oevb50h\" target=\"_blank\">baseline</a></strong> to <a href=\"https://wandb.ai/ranuga-d/Weather-archive-Jena-V2\" target=\"_blank\">Weights & Biases</a> (<a href=\"https://docs.wandb.com/integrations/jupyter.html\" target=\"_blank\">docs</a>).<br/>\n",
       "\n",
       "                "
      ],
      "text/plain": [
       "<IPython.core.display.HTML object>"
      ]
     },
     "metadata": {},
     "output_type": "display_data"
    },
    {
     "name": "stderr",
     "output_type": "stream",
     "text": [
      "100%|██████████| 100/100 [03:19<00:00,  2.00s/it]\n"
     ]
    },
    {
     "data": {
      "text/html": [
       "<br/>Waiting for W&B process to finish, PID 513246... <strong style=\"color:green\">(success).</strong>"
      ],
      "text/plain": [
       "<IPython.core.display.HTML object>"
      ]
     },
     "metadata": {},
     "output_type": "display_data"
    },
    {
     "data": {
      "application/vnd.jupyter.widget-view+json": {
       "model_id": "",
       "version_major": 2,
       "version_minor": 0
      },
      "text/plain": [
       "VBox(children=(Label(value=' 3.09MB of 3.09MB uploaded (0.00MB deduped)\\r'), FloatProgress(value=1.0, max=1.0)…"
      ]
     },
     "metadata": {},
     "output_type": "display_data"
    },
    {
     "data": {
      "text/html": [
       "<style>\n",
       "    table.wandb td:nth-child(1) { padding: 0 10px; text-align: right }\n",
       "    .wandb-row { display: flex; flex-direction: row; flex-wrap: wrap; width: 100% }\n",
       "    .wandb-col { display: flex; flex-direction: column; flex-basis: 100%; flex: 1; padding: 10px; }\n",
       "    </style>\n",
       "<div class=\"wandb-row\"><div class=\"wandb-col\">\n",
       "<h3>Run history:</h3><br/><table class=\"wandb\"><tr><td>Loss</td><td>███▇▇▇▇▆▆▆▆▅▅▅▄▄▄▄▄▃▃▃▃▃▃▃▃▂▂▂▂▂▂▂▂▁▁▁▁▁</td></tr><tr><td>Val Loss</td><td>███▇▇▇▇▆▆▆▅▅▅▅▄▄▄▄▄▃▃▃▃▃▃▃▃▂▂▂▂▂▂▂▂▁▁▁▁▁</td></tr></table><br/></div><div class=\"wandb-col\">\n",
       "<h3>Run summary:</h3><br/><table class=\"wandb\"><tr><td>Loss</td><td>5414.50439</td></tr><tr><td>Val Loss</td><td>5403.85156</td></tr></table>\n",
       "</div></div>\n",
       "Synced 6 W&B file(s), 100 media file(s), 2 artifact file(s) and 1 other file(s)\n",
       "<br/>Synced <strong style=\"color:#cdcd00\">baseline</strong>: <a href=\"https://wandb.ai/ranuga-d/Weather-archive-Jena-V2/runs/3oevb50h\" target=\"_blank\">https://wandb.ai/ranuga-d/Weather-archive-Jena-V2/runs/3oevb50h</a><br/>\n",
       "Find logs at: <code>./wandb/run-20211024_221203-3oevb50h/logs</code><br/>\n"
      ],
      "text/plain": [
       "<IPython.core.display.HTML object>"
      ]
     },
     "metadata": {},
     "output_type": "display_data"
    }
   ],
   "source": [
    "wandb.init(project=PROJECT_NAME,name='baseline')\n",
    "for _ in tqdm(range(epochs)):\n",
    "    def closure():\n",
    "        optimizer.zero_grad()\n",
    "        preds = model(data_input)\n",
    "        loss = criterion(preds,data_target)\n",
    "        loss.backward()\n",
    "        wandb.log({'Loss':loss.item()})\n",
    "        return loss\n",
    "    optimizer.step(closure)\n",
    "    with torch.no_grad():\n",
    "        n = data_input.shape[1]\n",
    "        future = 100\n",
    "        preds = model(data_input,future)\n",
    "        loss = criterion(preds[:,:-future],data_target)\n",
    "        wandb.log({'Val Loss':loss.item()})\n",
    "        preds = preds[0].view(-1).cpu().detach().numpy()\n",
    "        plt.figure(figsize=(12,6))\n",
    "        plt.plot(np.arange(n),data_input.view(-1).cpu().detach().numpy())\n",
    "        plt.plot(np.arange(n,n+future),preds[n:])\n",
    "        plt.savefig('./img.png')\n",
    "        plt.close()\n",
    "        wandb.log({'Img':wandb.Image(cv2.imread('./img.png'))})\n",
    "wandb.finish()"
   ]
  },
  {
   "cell_type": "code",
   "execution_count": 12,
   "id": "c3b8b0ca-54fe-47f6-8ffc-44afd896e505",
   "metadata": {},
   "outputs": [],
   "source": [
    "torch.save(model,'custom-model.pt')\n",
    "torch.save(model,'custom-model.pth')\n",
    "torch.save(model.state_dict(),'custom-model-sd.pt')\n",
    "torch.save(model.state_dict(),'custom-model-sd.pth')\n",
    "torch.save(model,'model.pt')\n",
    "torch.save(model,'model.pth')\n",
    "torch.save(model.state_dict(),'model-sd.pt')\n",
    "torch.save(model.state_dict(),'model-sd.pth')\n",
    "torch.save(data,'./data.pt')\n",
    "torch.save(data,'./data.pth')\n",
    "torch.save(data_input,'data_input.pt')\n",
    "torch.save(data_input,'data_input.pth')\n",
    "torch.save(data_target,'data_target.pt')\n",
    "torch.save(data_target,'data_target.pth')"
   ]
  },
  {
   "cell_type": "code",
   "execution_count": null,
   "id": "7da1ce2a-4166-4f50-a99a-281ffbdfdd4e",
   "metadata": {},
   "outputs": [],
   "source": []
  },
  {
   "cell_type": "code",
   "execution_count": null,
   "id": "5928fb00-b4b0-4c65-b42b-10c23181e1ab",
   "metadata": {},
   "outputs": [],
   "source": []
  }
 ],
 "metadata": {
  "kernelspec": {
   "display_name": "Python 3.8.8 64-bit ('base': conda)",
   "language": "python",
   "name": "python388jvsc74a57bd07338908a6901250255932625ba4b5c32a9d91564d69b39dc5095100e5c96b0b4"
  },
  "language_info": {
   "codemirror_mode": {
    "name": "ipython",
    "version": 3
   },
   "file_extension": ".py",
   "mimetype": "text/x-python",
   "name": "python",
   "nbconvert_exporter": "python",
   "pygments_lexer": "ipython3",
   "version": "3.8.8"
  }
 },
 "nbformat": 4,
 "nbformat_minor": 5
}
